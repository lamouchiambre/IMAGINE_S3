{
 "cells": [
  {
   "cell_type": "markdown",
   "id": "b20049b6-b2cb-432b-bd32-10ebfd4d3c14",
   "metadata": {},
   "source": [
    "# Importation"
   ]
  },
  {
   "cell_type": "code",
   "execution_count": 18,
   "id": "d1d5a1d1-606f-4154-bb50-e663756afbcf",
   "metadata": {},
   "outputs": [],
   "source": [
    "#!/usr/bin/env python\n",
    "\n",
    "import tensorflow as tf\n",
    "from tensorflow import keras\n",
    "\n",
    "import numpy as np\n",
    "import matplotlib.pyplot as plt\n",
    "from sklearn.metrics import plot_confusion_matrix\n",
    "\n",
    "import sys,os\n",
    "from importlib import reload\n",
    "sys.path.append('..')\n",
    "\n",
    "\n",
    "\n",
    "\n",
    "#pour la suite, à vous de jouer, bon courage :)"
   ]
  },
  {
   "cell_type": "markdown",
   "id": "5b31c81f-4fba-4784-bdce-c8c7530594f1",
   "metadata": {},
   "source": [
    "Pour le putain de TP on va utiliser un dataset mega classique. Qui est mniste. composer de 10 classe qui sont repectivement de 0 a 9 (les chiffre ta vue)\n",
    "On vq distinguer les separer en deux partie. les jeux de test et les jeux de t'apprentiddage. "
   ]
  },
  {
   "cell_type": "code",
   "execution_count": 19,
   "id": "3812b0f8-4fd7-4dc5-b6cf-af8187f833e3",
   "metadata": {},
   "outputs": [],
   "source": [
    "(x_train, y_train), (x_test, y_test) = keras.datasets.mnist.load_data()"
   ]
  },
  {
   "cell_type": "markdown",
   "id": "2182a55a-8928-42b8-b3aa-3bf274091988",
   "metadata": {},
   "source": [
    "Il faut normaliser les valeur d'image rentrer. En effet rare sont les reseau de neuronne qui prends en entree des valeur non normaliser et des image avec des taille variable. \n",
    "Il coutumier de garder une valeur en puissance de 2 et carrer. On va faire la meme chose."
   ]
  },
  {
   "cell_type": "code",
   "execution_count": 20,
   "id": "0093e92a-b68e-4873-bbf1-16c58419e345",
   "metadata": {},
   "outputs": [
    {
     "name": "stdout",
     "output_type": "stream",
     "text": [
      "x_train :  (60000, 28, 28, 1)\n",
      "y_train :  (60000,)\n",
      "x_test  :  (10000, 28, 28, 1)\n",
      "y_test  :  (10000,)\n"
     ]
    }
   ],
   "source": [
    "x_train = x_train.reshape(-1,28,28,1)\n",
    "x_test  = x_test.reshape(-1,28,28,1)\n",
    " \n",
    "\n",
    "print(\"x_train : \",x_train.shape)\n",
    "print(\"y_train : \",y_train.shape)\n",
    "print(\"x_test  : \",x_test.shape)\n",
    "print(\"y_test  : \",y_test.shape)"
   ]
  },
  {
   "cell_type": "markdown",
   "id": "9ace02dd-d55a-4722-aca9-1085c8d91435",
   "metadata": {},
   "source": [
    "le but du tp est de realiser un reseau de neuronne de convolution e destination. Il existe de nombreux model disponible de classifieur. Tel que mobilnet, alexnet ect..."
   ]
  },
  {
   "cell_type": "code",
   "execution_count": 21,
   "id": "b09334b2-5f24-4010-9151-8b0ce405c38c",
   "metadata": {},
   "outputs": [
    {
     "name": "stdout",
     "output_type": "stream",
     "text": [
      "Avant la normalisation  : Min 0 Max 255\n"
     ]
    }
   ],
   "source": [
    "print('Avant la normalisation  : Min {} Max {}'.format(x_train.min(),x_train.max()))"
   ]
  },
  {
   "cell_type": "code",
   "execution_count": 22,
   "id": "e6aa89ce-eb5a-4118-aa50-ab7aca243e41",
   "metadata": {},
   "outputs": [],
   "source": [
    "xmax = x_train.max()\n",
    "x_train = x_train / xmax\n",
    "x_test = x_test / xmax"
   ]
  },
  {
   "cell_type": "code",
   "execution_count": 23,
   "id": "edd6b0a3-09bf-4087-9b8c-20b5e56a8bba",
   "metadata": {},
   "outputs": [
    {
     "name": "stdout",
     "output_type": "stream",
     "text": [
      "Avant la normalisation  : Min 0.0 Max 1.0\n"
     ]
    }
   ],
   "source": [
    "print('Avant la normalisation  : Min {} Max {}'.format(x_train.min(),x_train.max()))"
   ]
  },
  {
   "cell_type": "code",
   "execution_count": 24,
   "id": "49ba0872-d8bc-4760-866e-b272cebdcb40",
   "metadata": {},
   "outputs": [],
   "source": [
    "model = keras.models.Sequential()\n",
    "\n",
    "model.add(keras.layers.Conv2D(6, (5, 5), padding='valid', input_shape = (28,28,1)))\n",
    "model.add(keras.layers.MaxPooling2D(pool_size=(2, 2)))\n",
    "model.add(keras.layers.Activation(\"sigmoid\"))\n",
    "\n",
    "model.add(keras.layers.Conv2D(16,( 5, 5),  padding='valid'))\n",
    "model.add(keras.layers.MaxPooling2D(pool_size=(2, 2)))\n",
    "model.add(keras.layers.Activation(\"sigmoid\"))\n",
    "\n",
    "model.add(keras.layers.Dropout(0.5))\n",
    "\n",
    "model.add(keras.layers.Conv2D(120, 1, 1,  padding='valid'))\n",
    "\n",
    "model.add(keras.layers.Flatten())\n",
    "model.add(keras.layers.Dense(84))\n",
    "model.add(keras.layers.Activation(\"sigmoid\"))\n",
    "model.add(keras.layers.Dense(10))\n",
    "model.add(keras.layers.Activation('softmax'))\n"
   ]
  },
  {
   "cell_type": "code",
   "execution_count": null,
   "id": "d6c21050",
   "metadata": {},
   "outputs": [],
   "source": [
    "model = keras.models.Sequential()\n",
    "\n",
    "model.add(keras.layers.Conv2D(6, (5, 5), padding='valid', input_shape = (28,28,1)))\n",
    "model.add(keras.layers.MaxPooling2D(pool_size=(2, 2)))\n",
    "model.add(keras.layers.Activation(\"sigmoid\"))\n",
    "\n",
    "model.add(keras.layers.Conv2D(16,( 5, 5),  padding='valid'))\n",
    "model.add(keras.layers.MaxPooling2D(pool_size=(2, 2)))\n",
    "model.add(keras.layers.Activation(\"sigmoid\"))\n",
    "\n",
    "model.add(keras.layers.Dropout(0.5))\n",
    "\n",
    "model.add(keras.layers.Conv2D(120, 1, 1,  padding='valid'))\n",
    "\n",
    "model.add(keras.layers.Flatten())\n",
    "model.add(keras.layers.Dense(84))\n",
    "model.add(keras.layers.Activation(\"sigmoid\"))\n",
    "model.add(keras.layers.Dense(10))\n",
    "model.add(keras.layers.Activation('softmax'))\n"
   ]
  },
  {
   "cell_type": "code",
   "execution_count": 25,
   "id": "fc1da66c-0465-4ddb-bcae-e6891fbf754e",
   "metadata": {},
   "outputs": [
    {
     "name": "stdout",
     "output_type": "stream",
     "text": [
      "Model: \"sequential_1\"\n",
      "_________________________________________________________________\n",
      " Layer (type)                Output Shape              Param #   \n",
      "=================================================================\n",
      " conv2d_3 (Conv2D)           (None, 24, 24, 6)         156       \n",
      "                                                                 \n",
      " max_pooling2d_2 (MaxPooling  (None, 12, 12, 6)        0         \n",
      " 2D)                                                             \n",
      "                                                                 \n",
      " activation_4 (Activation)   (None, 12, 12, 6)         0         \n",
      "                                                                 \n",
      " conv2d_4 (Conv2D)           (None, 8, 8, 16)          2416      \n",
      "                                                                 \n",
      " max_pooling2d_3 (MaxPooling  (None, 4, 4, 16)         0         \n",
      " 2D)                                                             \n",
      "                                                                 \n",
      " activation_5 (Activation)   (None, 4, 4, 16)          0         \n",
      "                                                                 \n",
      " dropout_1 (Dropout)         (None, 4, 4, 16)          0         \n",
      "                                                                 \n",
      " conv2d_5 (Conv2D)           (None, 4, 4, 120)         2040      \n",
      "                                                                 \n",
      " flatten_1 (Flatten)         (None, 1920)              0         \n",
      "                                                                 \n",
      " dense_2 (Dense)             (None, 84)                161364    \n",
      "                                                                 \n",
      " activation_6 (Activation)   (None, 84)                0         \n",
      "                                                                 \n",
      " dense_3 (Dense)             (None, 10)                850       \n",
      "                                                                 \n",
      " activation_7 (Activation)   (None, 10)                0         \n",
      "                                                                 \n",
      "=================================================================\n",
      "Total params: 166,826\n",
      "Trainable params: 166,826\n",
      "Non-trainable params: 0\n",
      "_________________________________________________________________\n"
     ]
    }
   ],
   "source": [
    "model.summary()\n",
    "\n",
    "model.compile(optimizer = 'adam', loss = 'sparse_categorical_crossentropy', metrics =['accuracy'])"
   ]
  },
  {
   "cell_type": "code",
   "execution_count": 26,
   "id": "9c0b5d12-7424-4b2a-bc0a-b90e74469fc5",
   "metadata": {},
   "outputs": [
    {
     "name": "stdout",
     "output_type": "stream",
     "text": [
      "Epoch 1/25\n",
      "118/118 [==============================] - 7s 60ms/step - loss: 2.2506 - accuracy: 0.1681 - val_loss: 1.6802 - val_accuracy: 0.6743\n",
      "Epoch 2/25\n",
      "118/118 [==============================] - 7s 56ms/step - loss: 0.9793 - accuracy: 0.7096 - val_loss: 0.4445 - val_accuracy: 0.8875\n",
      "Epoch 3/25\n",
      "118/118 [==============================] - 7s 57ms/step - loss: 0.5079 - accuracy: 0.8505 - val_loss: 0.2758 - val_accuracy: 0.9267\n",
      "Epoch 4/25\n",
      "118/118 [==============================] - 7s 58ms/step - loss: 0.3701 - accuracy: 0.8883 - val_loss: 0.2030 - val_accuracy: 0.9417\n",
      "Epoch 5/25\n",
      "118/118 [==============================] - 7s 58ms/step - loss: 0.2993 - accuracy: 0.9105 - val_loss: 0.1659 - val_accuracy: 0.9501\n",
      "Epoch 6/25\n",
      "118/118 [==============================] - 7s 57ms/step - loss: 0.2572 - accuracy: 0.9220 - val_loss: 0.1423 - val_accuracy: 0.9581\n",
      "Epoch 7/25\n",
      "118/118 [==============================] - 7s 57ms/step - loss: 0.2313 - accuracy: 0.9294 - val_loss: 0.1245 - val_accuracy: 0.9620\n",
      "Epoch 8/25\n",
      "118/118 [==============================] - 7s 57ms/step - loss: 0.2112 - accuracy: 0.9352 - val_loss: 0.1167 - val_accuracy: 0.9629\n",
      "Epoch 9/25\n",
      "118/118 [==============================] - 7s 56ms/step - loss: 0.1965 - accuracy: 0.9397 - val_loss: 0.1075 - val_accuracy: 0.9668\n",
      "Epoch 10/25\n",
      "118/118 [==============================] - 7s 57ms/step - loss: 0.1856 - accuracy: 0.9434 - val_loss: 0.0979 - val_accuracy: 0.9691\n",
      "Epoch 11/25\n",
      "118/118 [==============================] - 7s 56ms/step - loss: 0.1740 - accuracy: 0.9458 - val_loss: 0.0923 - val_accuracy: 0.9718\n",
      "Epoch 12/25\n",
      "118/118 [==============================] - 7s 58ms/step - loss: 0.1684 - accuracy: 0.9477 - val_loss: 0.0887 - val_accuracy: 0.9724\n",
      "Epoch 13/25\n",
      "118/118 [==============================] - 7s 57ms/step - loss: 0.1612 - accuracy: 0.9506 - val_loss: 0.0840 - val_accuracy: 0.9738\n",
      "Epoch 14/25\n",
      "118/118 [==============================] - 7s 56ms/step - loss: 0.1523 - accuracy: 0.9528 - val_loss: 0.0798 - val_accuracy: 0.9745\n",
      "Epoch 15/25\n",
      "118/118 [==============================] - 7s 57ms/step - loss: 0.1481 - accuracy: 0.9534 - val_loss: 0.0761 - val_accuracy: 0.9763\n",
      "Epoch 16/25\n",
      "118/118 [==============================] - 7s 56ms/step - loss: 0.1428 - accuracy: 0.9556 - val_loss: 0.0754 - val_accuracy: 0.9757\n",
      "Epoch 17/25\n",
      "118/118 [==============================] - 7s 57ms/step - loss: 0.1406 - accuracy: 0.9560 - val_loss: 0.0714 - val_accuracy: 0.9781\n",
      "Epoch 18/25\n",
      "118/118 [==============================] - 7s 56ms/step - loss: 0.1339 - accuracy: 0.9582 - val_loss: 0.0685 - val_accuracy: 0.9777\n",
      "Epoch 19/25\n",
      "118/118 [==============================] - 7s 56ms/step - loss: 0.1348 - accuracy: 0.9575 - val_loss: 0.0677 - val_accuracy: 0.9781\n",
      "Epoch 20/25\n",
      "118/118 [==============================] - 7s 56ms/step - loss: 0.1278 - accuracy: 0.9594 - val_loss: 0.0659 - val_accuracy: 0.9788\n",
      "Epoch 21/25\n",
      "118/118 [==============================] - 7s 56ms/step - loss: 0.1255 - accuracy: 0.9606 - val_loss: 0.0642 - val_accuracy: 0.9796\n",
      "Epoch 22/25\n",
      "118/118 [==============================] - 7s 56ms/step - loss: 0.1215 - accuracy: 0.9618 - val_loss: 0.0630 - val_accuracy: 0.9799\n",
      "Epoch 23/25\n",
      "118/118 [==============================] - 7s 56ms/step - loss: 0.1201 - accuracy: 0.9615 - val_loss: 0.0615 - val_accuracy: 0.9801\n",
      "Epoch 24/25\n",
      "118/118 [==============================] - 7s 57ms/step - loss: 0.1179 - accuracy: 0.9623 - val_loss: 0.0594 - val_accuracy: 0.9808\n",
      "Epoch 25/25\n",
      "118/118 [==============================] - 7s 57ms/step - loss: 0.1150 - accuracy: 0.9643 - val_loss: 0.0580 - val_accuracy: 0.9809\n"
     ]
    }
   ],
   "source": [
    "batch_size = 512\n",
    "epochs = 25\n",
    "fit_verbosity = 1\n",
    "\n",
    "history = model.fit(x_train, y_train,\n",
    "                    batch_size = batch_size,\n",
    "                    epochs = epochs,\n",
    "                    verbose = fit_verbosity,\n",
    "                    validation_data = (x_test, y_test)\n",
    ")"
   ]
  },
  {
   "cell_type": "code",
   "execution_count": 27,
   "id": "7cb6ac05-cbf2-48fd-b1e3-9ec53af9cc2b",
   "metadata": {},
   "outputs": [
    {
     "name": "stdout",
     "output_type": "stream",
     "text": [
      "Test loss : 0.0580\n",
      "Test accuracy : 0.9809\n"
     ]
    }
   ],
   "source": [
    "score = model.evaluate(x_test, y_test,verbose=0)\n",
    "\n",
    "print(f'Test loss : {score[0]:4.4f}')\n",
    "print(f'Test accuracy : {score[1]:4.4f}')"
   ]
  },
  {
   "cell_type": "code",
   "execution_count": 28,
   "id": "be6311b9-a5a0-4874-afe6-80fe30c552c5",
   "metadata": {},
   "outputs": [
    {
     "data": {
      "image/png": "[encoded data removed]",
      "text/plain": [
       "<Figure size 432x288 with 1 Axes>"
      ]
     },
     "metadata": {
      "needs_background": "light"
     },
     "output_type": "display_data"
    }
   ],
   "source": [
    "model.metrics_names\n",
    "plt.plot(history.history['accuracy'])\n",
    "plt.plot(history.history['val_accuracy'])\n",
    "plt.title('model accurarcy')\n",
    "plt.ylabel('accuracy')\n",
    "plt.xlabel('epoch')\n",
    "plt.legend(['train','validation'], loc='upper left')\n",
    "plt.show()\n",
    "\n"
   ]
  },
  {
   "cell_type": "code",
   "execution_count": 29,
   "id": "e41c5032-3b49-402b-94bb-cdeeeee95dca",
   "metadata": {},
   "outputs": [
    {
     "name": "stderr",
     "output_type": "stream",
     "text": [
      "c:\\Users\\lamou\\AppData\\Local\\Programs\\Python\\Python39\\lib\\site-packages\\sklearn\\utils\\deprecation.py:87: FutureWarning: Function plot_confusion_matrix is deprecated; Function `plot_confusion_matrix` is deprecated in 1.0 and will be removed in 1.2. Use one of the class methods: ConfusionMatrixDisplay.from_predictions or ConfusionMatrixDisplay.from_estimator.\n",
      "  warnings.warn(msg, category=FutureWarning)\n"
     ]
    },
    {
     "data": {
      "text/plain": [
       "<sklearn.metrics._plot.confusion_matrix.ConfusionMatrixDisplay at 0x11aa207cee0>"
      ]
     },
     "execution_count": 29,
     "metadata": {},
     "output_type": "execute_result"
    },
    {
     "data": {
      "image/png": "[encoded data removed]",
      "text/plain": [
       "<Figure size 432x288 with 2 Axes>"
      ]
     },
     "metadata": {
      "needs_background": "light"
     },
     "output_type": "display_data"
    }
   ],
   "source": [
    "class estimator:\n",
    "  _estimator_type  = ''\n",
    "  classes = []\n",
    "  def __init__(self, model, classes):\n",
    "    self.model = model\n",
    "    self._estimator_type = 'classifier'\n",
    "    self.classes = classes\n",
    "  def predict(self, X):\n",
    "    y_prob = self.model.predict(X)\n",
    "    y_pred = y_prob.argmax(axis = 1)\n",
    "    return y_pred\n",
    "\n",
    "classes_names = ['0', '1', '2', '3', '4', '5', '6', '7', '8', '9']\n",
    "classifier = estimator(model, classes_names)\n",
    "plot_confusion_matrix(estimator = classifier, X = x_test, y_true = y_test)"
   ]
  },
  {
   "cell_type": "code",
   "execution_count": 30,
   "id": "e27b05b1-f4af-4414-8a24-06eef76033f7",
   "metadata": {},
   "outputs": [],
   "source": [
    "model.save('alexnet.h5')\n"
   ]
  },
  {
   "cell_type": "code",
   "execution_count": 31,
   "id": "fee2b18d-baf5-4701-aab3-3064d4b138b9",
   "metadata": {},
   "outputs": [
    {
     "data": {
      "image/png": "[encoded data removed]",
      "text/plain": [
       "<Figure size 576x576 with 2 Axes>"
      ]
     },
     "metadata": {
      "needs_background": "light"
     },
     "output_type": "display_data"
    }
   ],
   "source": [
    "acc = history.history['accuracy']\n",
    "val_acc = history.history['val_accuracy']\n",
    "\n",
    "loss = history.history['loss']\n",
    "val_loss = history.history['val_loss']\n",
    "\n",
    "epochs_range = range(epochs)\n",
    "\n",
    "plt.figure(figsize=(8, 8))\n",
    "plt.subplot(1, 2, 1)\n",
    "plt.plot(epochs_range, acc, label='Training Accuracy')\n",
    "plt.plot(epochs_range, val_acc, label='Validation Accuracy')\n",
    "plt.legend(loc='lower right')\n",
    "plt.title('Training and Validation Accuracy')\n",
    "\n",
    "plt.subplot(1, 2, 2)\n",
    "plt.plot(epochs_range, loss, label='Training Loss')\n",
    "plt.plot(epochs_range, val_loss, label='Validation Loss')\n",
    "plt.legend(loc='upper right')\n",
    "plt.title('Training and Validation Loss')\n",
    "plt.show()"
   ]
  }
 ],
 "metadata": {
  "kernelspec": {
   "display_name": "Python 3.9.10 64-bit",
   "language": "python",
   "name": "python3"
  },
  "language_info": {
   "codemirror_mode": {
    "name": "ipython",
    "version": 3
   },
   "file_extension": ".py",
   "mimetype": "text/x-python",
   "name": "python",
   "nbconvert_exporter": "python",
   "pygments_lexer": "ipython3",
   "version": "3.9.10"
  },
  "vscode": {
   "interpreter": {
    "hash": "a7d1b59daac0ceca72aa986f36f3bae4c4aa7baaf247195d922080265bcb96bf"
   }
  }
 },
 "nbformat": 4,
 "nbformat_minor": 5
}
