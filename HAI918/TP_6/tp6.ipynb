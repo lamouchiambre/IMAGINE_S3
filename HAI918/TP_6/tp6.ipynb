{
 "cells": [
  {
   "cell_type": "markdown",
   "id": "b20049b6-b2cb-432b-bd32-10ebfd4d3c14",
   "metadata": {},
   "source": [
    "# Importation"
   ]
  },
  {
   "cell_type": "code",
   "execution_count": 1,
   "id": "d1d5a1d1-606f-4154-bb50-e663756afbcf",
   "metadata": {},
   "outputs": [
    {
     "name": "stderr",
     "output_type": "stream",
     "text": [
      "2022-10-17 12:49:42.077403: I tensorflow/core/platform/cpu_feature_guard.cc:193] This TensorFlow binary is optimized with oneAPI Deep Neural Network Library (oneDNN) to use the following CPU instructions in performance-critical operations:  AVX2 FMA\n",
      "To enable them in other operations, rebuild TensorFlow with the appropriate compiler flags.\n",
      "2022-10-17 12:49:42.235009: E tensorflow/stream_executor/cuda/cuda_blas.cc:2981] Unable to register cuBLAS factory: Attempting to register factory for plugin cuBLAS when one has already been registered\n",
      "2022-10-17 12:49:43.146192: W tensorflow/stream_executor/platform/default/dso_loader.cc:64] Could not load dynamic library 'libnvinfer.so.7'; dlerror: libnvinfer.so.7: cannot open shared object file: No such file or directory\n",
      "2022-10-17 12:49:43.146270: W tensorflow/stream_executor/platform/default/dso_loader.cc:64] Could not load dynamic library 'libnvinfer_plugin.so.7'; dlerror: libnvinfer_plugin.so.7: cannot open shared object file: No such file or directory\n",
      "2022-10-17 12:49:43.146280: W tensorflow/compiler/tf2tensorrt/utils/py_utils.cc:38] TF-TRT Warning: Cannot dlopen some TensorRT libraries. If you would like to use Nvidia GPU with TensorRT, please make sure the missing libraries mentioned above are installed properly.\n"
     ]
    }
   ],
   "source": [
    "#!/usr/bin/env python\n",
    "\n",
    "import tensorflow as tf\n",
    "from tensorflow import keras\n",
    "\n",
    "import numpy as np\n",
    "import matplotlib.pyplot as plt\n",
    "from sklearn.metrics import plot_confusion_matrix\n",
    "\n",
    "import sys,os\n",
    "from importlib import reload\n",
    "sys.path.append('..')\n",
    "\n",
    "\n",
    "\n",
    "\n",
    "#pour la suite, à vous de jouer, bon courage :)"
   ]
  },
  {
   "cell_type": "markdown",
   "id": "5b31c81f-4fba-4784-bdce-c8c7530594f1",
   "metadata": {},
   "source": [
    "Pour le putain de TP on va utiliser un dataset mega classique. Qui est mniste. composer de 10 classe qui sont repectivement de 0 a 9 (les chiffre ta vue)\n",
    "On vq distinguer les separer en deux partie. les jeux de test et les jeux de t'apprentiddage. "
   ]
  },
  {
   "cell_type": "code",
   "execution_count": 2,
   "id": "3812b0f8-4fd7-4dc5-b6cf-af8187f833e3",
   "metadata": {},
   "outputs": [],
   "source": [
    "(x_train, y_train), (x_test, y_test) = keras.datasets.mnist.load_data()"
   ]
  },
  {
   "cell_type": "markdown",
   "id": "2182a55a-8928-42b8-b3aa-3bf274091988",
   "metadata": {},
   "source": [
    "Il faut normaliser les valeur d'image rentrer. En effet rare sont les reseau de neuronne qui prends en entree des valeur non normaliser et des image avec des taille variable. \n",
    "Il coutumier de garder une valeur en puissance de 2 et carrer. On va faire la meme chose."
   ]
  },
  {
   "cell_type": "code",
   "execution_count": 3,
   "id": "0093e92a-b68e-4873-bbf1-16c58419e345",
   "metadata": {},
   "outputs": [
    {
     "name": "stdout",
     "output_type": "stream",
     "text": [
      "x_train :  (60000, 28, 28, 1)\n",
      "y_train :  (60000,)\n",
      "x_test  :  (10000, 28, 28, 1)\n",
      "y_test  :  (10000,)\n"
     ]
    }
   ],
   "source": [
    "x_train = x_train.reshape(-1,28,28,1)\n",
    "x_test  = x_test.reshape(-1,28,28,1)\n",
    " \n",
    "\n",
    "print(\"x_train : \",x_train.shape)\n",
    "print(\"y_train : \",y_train.shape)\n",
    "print(\"x_test  : \",x_test.shape)\n",
    "print(\"y_test  : \",y_test.shape)"
   ]
  },
  {
   "cell_type": "markdown",
   "id": "9ace02dd-d55a-4722-aca9-1085c8d91435",
   "metadata": {},
   "source": [
    "le but du tp est de realiser un reseau de neuronne de convolution e destination. Il existe de nombreux model disponible de classifieur. Tel que mobilnet, alexnet ect..."
   ]
  },
  {
   "cell_type": "code",
   "execution_count": 4,
   "id": "b09334b2-5f24-4010-9151-8b0ce405c38c",
   "metadata": {},
   "outputs": [
    {
     "name": "stdout",
     "output_type": "stream",
     "text": [
      "Avant la normalisation  : Min 0 Max 255\n"
     ]
    }
   ],
   "source": [
    "print('Avant la normalisation  : Min {} Max {}'.format(x_train.min(),x_train.max()))"
   ]
  },
  {
   "cell_type": "code",
   "execution_count": 5,
   "id": "e6aa89ce-eb5a-4118-aa50-ab7aca243e41",
   "metadata": {},
   "outputs": [],
   "source": [
    "xmax = x_train.max()\n",
    "x_train = x_train / xmax\n",
    "x_test = x_test / xmax"
   ]
  },
  {
   "cell_type": "code",
   "execution_count": 6,
   "id": "edd6b0a3-09bf-4087-9b8c-20b5e56a8bba",
   "metadata": {},
   "outputs": [
    {
     "name": "stdout",
     "output_type": "stream",
     "text": [
      "Avant la normalisation  : Min 0.0 Max 1.0\n"
     ]
    }
   ],
   "source": [
    "print('Avant la normalisation  : Min {} Max {}'.format(x_train.min(),x_train.max()))"
   ]
  },
  {
   "cell_type": "code",
   "execution_count": 7,
   "id": "49ba0872-d8bc-4760-866e-b272cebdcb40",
   "metadata": {},
   "outputs": [
    {
     "name": "stderr",
     "output_type": "stream",
     "text": [
      "2022-10-17 12:49:45.745108: E tensorflow/stream_executor/cuda/cuda_driver.cc:265] failed call to cuInit: CUDA_ERROR_NO_DEVICE: no CUDA-capable device is detected\n",
      "2022-10-17 12:49:45.745138: I tensorflow/stream_executor/cuda/cuda_diagnostics.cc:156] kernel driver does not appear to be running on this host (si20): /proc/driver/nvidia/version does not exist\n",
      "2022-10-17 12:49:45.745585: I tensorflow/core/platform/cpu_feature_guard.cc:193] This TensorFlow binary is optimized with oneAPI Deep Neural Network Library (oneDNN) to use the following CPU instructions in performance-critical operations:  AVX2 FMA\n",
      "To enable them in other operations, rebuild TensorFlow with the appropriate compiler flags.\n"
     ]
    }
   ],
   "source": [
    "model = keras.models.Sequential()\n",
    "\n",
    "model.add(keras.layers.Conv2D(6, (5, 5), padding='valid', input_shape = (28,28,1)))\n",
    "model.add(keras.layers.MaxPooling2D(pool_size=(2, 2)))\n",
    "model.add(keras.layers.Activation(\"sigmoid\"))\n",
    "\n",
    "model.add(keras.layers.Conv2D(16,( 5, 5),  padding='valid'))\n",
    "model.add(keras.layers.MaxPooling2D(pool_size=(2, 2)))\n",
    "model.add(keras.layers.Activation(\"sigmoid\"))\n",
    "\n",
    "model.add(keras.layers.Dropout(0.5))\n",
    "\n",
    "model.add(keras.layers.Conv2D(120, 1, 1,  padding='valid'))\n",
    "\n",
    "model.add(keras.layers.Flatten())\n",
    "model.add(keras.layers.Dense(84))\n",
    "model.add(keras.layers.Activation(\"sigmoid\"))\n",
    "model.add(keras.layers.Dense(10))\n",
    "model.add(keras.layers.Activation('softmax'))\n"
   ]
  },
  {
   "cell_type": "code",
   "execution_count": 8,
   "id": "fc1da66c-0465-4ddb-bcae-e6891fbf754e",
   "metadata": {},
   "outputs": [
    {
     "name": "stdout",
     "output_type": "stream",
     "text": [
      "Model: \"sequential\"\n",
      "_________________________________________________________________\n",
      " Layer (type)                Output Shape              Param #   \n",
      "=================================================================\n",
      " conv2d (Conv2D)             (None, 24, 24, 6)         156       \n",
      "                                                                 \n",
      " max_pooling2d (MaxPooling2D  (None, 12, 12, 6)        0         \n",
      " )                                                               \n",
      "                                                                 \n",
      " activation (Activation)     (None, 12, 12, 6)         0         \n",
      "                                                                 \n",
      " conv2d_1 (Conv2D)           (None, 8, 8, 16)          2416      \n",
      "                                                                 \n",
      " max_pooling2d_1 (MaxPooling  (None, 4, 4, 16)         0         \n",
      " 2D)                                                             \n",
      "                                                                 \n",
      " activation_1 (Activation)   (None, 4, 4, 16)          0         \n",
      "                                                                 \n",
      " dropout (Dropout)           (None, 4, 4, 16)          0         \n",
      "                                                                 \n",
      " conv2d_2 (Conv2D)           (None, 4, 4, 120)         2040      \n",
      "                                                                 \n",
      " flatten (Flatten)           (None, 1920)              0         \n",
      "                                                                 \n",
      " dense (Dense)               (None, 84)                161364    \n",
      "                                                                 \n",
      " activation_2 (Activation)   (None, 84)                0         \n",
      "                                                                 \n",
      " dense_1 (Dense)             (None, 10)                850       \n",
      "                                                                 \n",
      " activation_3 (Activation)   (None, 10)                0         \n",
      "                                                                 \n",
      "=================================================================\n",
      "Total params: 166,826\n",
      "Trainable params: 166,826\n",
      "Non-trainable params: 0\n",
      "_________________________________________________________________\n"
     ]
    }
   ],
   "source": [
    "model.summary()\n",
    "\n",
    "model.compile(optimizer = 'adam', loss = 'sparse_categorical_crossentropy', metrics =['accuracy'])"
   ]
  },
  {
   "cell_type": "code",
   "execution_count": 2,
   "id": "9c0b5d12-7424-4b2a-bc0a-b90e74469fc5",
   "metadata": {},
   "outputs": [
    {
     "ename": "NameError",
     "evalue": "name 'model' is not defined",
     "output_type": "error",
     "traceback": [
      "\u001b[0;31m---------------------------------------------------------------------------\u001b[0m",
      "\u001b[0;31mNameError\u001b[0m                                 Traceback (most recent call last)",
      "\u001b[0;32m/tmp/ipykernel_284041/4053835010.py\u001b[0m in \u001b[0;36m<module>\u001b[0;34m\u001b[0m\n\u001b[1;32m      3\u001b[0m \u001b[0mfit_verbosity\u001b[0m \u001b[0;34m=\u001b[0m \u001b[0;36m1\u001b[0m\u001b[0;34m\u001b[0m\u001b[0;34m\u001b[0m\u001b[0m\n\u001b[1;32m      4\u001b[0m \u001b[0;34m\u001b[0m\u001b[0m\n\u001b[0;32m----> 5\u001b[0;31m history = model.fit(x_train, y_train,\n\u001b[0m\u001b[1;32m      6\u001b[0m                     \u001b[0mbatch_size\u001b[0m \u001b[0;34m=\u001b[0m \u001b[0mbatch_size\u001b[0m\u001b[0;34m,\u001b[0m\u001b[0;34m\u001b[0m\u001b[0;34m\u001b[0m\u001b[0m\n\u001b[1;32m      7\u001b[0m                     \u001b[0mepochs\u001b[0m \u001b[0;34m=\u001b[0m \u001b[0mepochs\u001b[0m\u001b[0;34m,\u001b[0m\u001b[0;34m\u001b[0m\u001b[0;34m\u001b[0m\u001b[0m\n",
      "\u001b[0;31mNameError\u001b[0m: name 'model' is not defined"
     ]
    }
   ],
   "source": [
    "batch_size = 512\n",
    "epochs = 25\n",
    "fit_verbosity = 1\n",
    "\n",
    "history = model.fit(x_train, y_train,\n",
    "                    batch_size = batch_size,\n",
    "                    epochs = epochs,\n",
    "                    verbose = fit_verbosity,\n",
    "                    validation_data = (x_test, y_test)\n",
    ")"
   ]
  },
  {
   "cell_type": "code",
   "execution_count": 1,
   "id": "7cb6ac05-cbf2-48fd-b1e3-9ec53af9cc2b",
   "metadata": {},
   "outputs": [
    {
     "ename": "NameError",
     "evalue": "name 'model' is not defined",
     "output_type": "error",
     "traceback": [
      "\u001b[0;31m---------------------------------------------------------------------------\u001b[0m",
      "\u001b[0;31mNameError\u001b[0m                                 Traceback (most recent call last)",
      "\u001b[0;32m/tmp/ipykernel_284041/821273097.py\u001b[0m in \u001b[0;36m<module>\u001b[0;34m\u001b[0m\n\u001b[0;32m----> 1\u001b[0;31m \u001b[0mscore\u001b[0m \u001b[0;34m=\u001b[0m \u001b[0mmodel\u001b[0m\u001b[0;34m.\u001b[0m\u001b[0mevaluate\u001b[0m\u001b[0;34m(\u001b[0m\u001b[0mx_test\u001b[0m\u001b[0;34m,\u001b[0m \u001b[0my_test\u001b[0m\u001b[0;34m,\u001b[0m\u001b[0mverbose\u001b[0m\u001b[0;34m=\u001b[0m\u001b[0;36m0\u001b[0m\u001b[0;34m)\u001b[0m\u001b[0;34m\u001b[0m\u001b[0;34m\u001b[0m\u001b[0m\n\u001b[0m\u001b[1;32m      2\u001b[0m \u001b[0;34m\u001b[0m\u001b[0m\n\u001b[1;32m      3\u001b[0m \u001b[0mprint\u001b[0m\u001b[0;34m(\u001b[0m\u001b[0;34mf'Test loss : {score[0]:4.4f}'\u001b[0m\u001b[0;34m)\u001b[0m\u001b[0;34m\u001b[0m\u001b[0;34m\u001b[0m\u001b[0m\n\u001b[1;32m      4\u001b[0m \u001b[0mprint\u001b[0m\u001b[0;34m(\u001b[0m\u001b[0;34mf'Test accuracy : {score[1]:4.4f}'\u001b[0m\u001b[0;34m)\u001b[0m\u001b[0;34m\u001b[0m\u001b[0;34m\u001b[0m\u001b[0m\n",
      "\u001b[0;31mNameError\u001b[0m: name 'model' is not defined"
     ]
    }
   ],
   "source": [
    "score = model.evaluate(x_test, y_test,verbose=0)\n",
    "\n",
    "print(f'Test loss : {score[0]:4.4f}')\n",
    "print(f'Test accuracy : {score[1]:4.4f}')"
   ]
  },
  {
   "cell_type": "code",
   "execution_count": null,
   "id": "be6311b9-a5a0-4874-afe6-80fe30c552c5",
   "metadata": {},
   "outputs": [],
   "source": [
    "model.metrics_names\n",
    "plt.plot(history.history['accuracy'])\n",
    "plt.plot(history.history['val_accuracy'])\n",
    "plt.title('model accurarcy')\n",
    "plt.ylabel('accuracy')\n",
    "plt.xlabel('epoch')\n",
    "plt.legend(['train','validation'], loc='upper left')\n",
    "plt.show()\n",
    "\n"
   ]
  },
  {
   "cell_type": "code",
   "execution_count": null,
   "id": "e41c5032-3b49-402b-94bb-cdeeeee95dca",
   "metadata": {},
   "outputs": [],
   "source": [
    "class estimator:\n",
    "  _estimator_type  = ''\n",
    "  classes = []\n",
    "  def __init__(self, model, classes):\n",
    "    self.model = model\n",
    "    self._estimator_type = 'classifier'\n",
    "    self.classes = classes\n",
    "  def predict(self, X):\n",
    "    y_prob = self.model.predict(X)\n",
    "    y_pred = y_prob.argmax(axis = 1)\n",
    "    return y_pred\n",
    "\n",
    "classes_names = ['0', '1', '2', '3', '4', '5', '6', '7', '8', '9']\n",
    "classifier = estimator(model, classes_names)\n",
    "plot_confusion_matrix(estimator = classifier, X = x_test, y_true = y_test)"
   ]
  },
  {
   "cell_type": "code",
   "execution_count": null,
   "id": "e27b05b1-f4af-4414-8a24-06eef76033f7",
   "metadata": {},
   "outputs": [],
   "source": [
    "model.save('alexnet.h5')\n"
   ]
  },
  {
   "cell_type": "code",
   "execution_count": null,
   "id": "fee2b18d-baf5-4701-aab3-3064d4b138b9",
   "metadata": {},
   "outputs": [],
   "source": []
  }
 ],
 "metadata": {
  "kernelspec": {
   "display_name": "aled",
   "language": "python",
   "name": "other-env"
  },
  "language_info": {
   "codemirror_mode": {
    "name": "ipython",
    "version": 3
   },
   "file_extension": ".py",
   "mimetype": "text/x-python",
   "name": "python",
   "nbconvert_exporter": "python",
   "pygments_lexer": "ipython3",
   "version": "3.10.6"
  }
 },
 "nbformat": 4,
 "nbformat_minor": 5
}
