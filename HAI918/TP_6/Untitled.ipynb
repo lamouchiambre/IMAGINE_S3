{
 "cells": [
  {
   "cell_type": "markdown",
   "id": "b20049b6-b2cb-432b-bd32-10ebfd4d3c14",
   "metadata": {},
   "source": [
    "# Importation"
   ]
  },
  {
   "cell_type": "code",
   "execution_count": 15,
   "id": "d1d5a1d1-606f-4154-bb50-e663756afbcf",
   "metadata": {},
   "outputs": [],
   "source": [
    "#!/usr/bin/env python\n",
    "\n",
    "import tensorflow as tf\n",
    "from tensorflow import keras\n",
    "\n",
    "import numpy as np\n",
    "import matplotlib.pyplot as plt\n",
    "from sklearn.metrics import plot_confusion_matrix\n",
    "\n",
    "import sys,os\n",
    "from importlib import reload\n",
    "sys.path.append('..')\n",
    "\n",
    "\n",
    "\n",
    "\n",
    "#pour la suite, à vous de jouer, bon courage :)"
   ]
  },
  {
   "cell_type": "markdown",
   "id": "5b31c81f-4fba-4784-bdce-c8c7530594f1",
   "metadata": {},
   "source": [
    "Pour le putain de TP on va utiliser un dataset mega classique. Qui est mniste. composer de 10 classe qui sont repectivement de 0 a 9 (les chiffre ta vue)\n",
    "On vq distinguer les separer en deux partie. les jeux de test et les jeux de t'apprentiddage. "
   ]
  },
  {
   "cell_type": "code",
   "execution_count": 16,
   "id": "3812b0f8-4fd7-4dc5-b6cf-af8187f833e3",
   "metadata": {},
   "outputs": [],
   "source": [
    "(x_train, y_train), (x_test, y_test) = keras.datasets.mnist.load_data()"
   ]
  },
  {
   "cell_type": "markdown",
   "id": "2182a55a-8928-42b8-b3aa-3bf274091988",
   "metadata": {},
   "source": [
    "Il faut normaliser les valeur d'image rentrer. En effet rare sont les reseau de neuronne qui prends en entree des valeur non normaliser et des image avec des taille variable. \n",
    "Il coutumier de garder une valeur en puissance de 2 et carrer. On va faire la meme chose."
   ]
  },
  {
   "cell_type": "code",
   "execution_count": 17,
   "id": "0093e92a-b68e-4873-bbf1-16c58419e345",
   "metadata": {},
   "outputs": [
    {
     "name": "stdout",
     "output_type": "stream",
     "text": [
      "x_train :  (60000, 28, 28, 1)\n",
      "y_train :  (60000,)\n",
      "x_test  :  (10000, 28, 28, 1)\n",
      "y_test  :  (10000,)\n"
     ]
    }
   ],
   "source": [
    "x_train = x_train.reshape(-1,28,28,1)\n",
    "x_test  = x_test.reshape(-1,28,28,1)\n",
    "\n",
    "print(\"x_train : \",x_train.shape)\n",
    "print(\"y_train : \",y_train.shape)\n",
    "print(\"x_test  : \",x_test.shape)\n",
    "print(\"y_test  : \",y_test.shape)"
   ]
  },
  {
   "cell_type": "markdown",
   "id": "9ace02dd-d55a-4722-aca9-1085c8d91435",
   "metadata": {},
   "source": [
    "le but du tp est de realiser un reseau de neuronne de convolution e destination. Il existe de nombreux model disponible de classifieur. Tel que mobilnet, alexnet ect..."
   ]
  },
  {
   "cell_type": "code",
   "execution_count": 18,
   "id": "b09334b2-5f24-4010-9151-8b0ce405c38c",
   "metadata": {},
   "outputs": [
    {
     "name": "stdout",
     "output_type": "stream",
     "text": [
      "Avant la normalisation  : Min 0 Max 255\n"
     ]
    }
   ],
   "source": [
    "print('Avant la normalisation  : Min {} Max {}'.format(x_train.min(),x_train.max()))"
   ]
  },
  {
   "cell_type": "code",
   "execution_count": 19,
   "id": "e6aa89ce-eb5a-4118-aa50-ab7aca243e41",
   "metadata": {},
   "outputs": [],
   "source": [
    "xmax = x_train.max()\n",
    "x_train = x_train / xmax\n",
    "x_test = x_test / xmax"
   ]
  },
  {
   "cell_type": "code",
   "execution_count": 20,
   "id": "edd6b0a3-09bf-4087-9b8c-20b5e56a8bba",
   "metadata": {},
   "outputs": [
    {
     "name": "stdout",
     "output_type": "stream",
     "text": [
      "Avant la normalisation  : Min 0.0 Max 1.0\n"
     ]
    }
   ],
   "source": [
    "print('Avant la normalisation  : Min {} Max {}'.format(x_train.min(),x_train.max()))"
   ]
  },
  {
   "cell_type": "markdown",
   "id": "a0057d5b-ed03-4658-8da6-7baca4d6f65b",
   "metadata": {},
   "source": [
    "Dans l'amelioration des CNN il est devellopper lords des concours de reseau de neuronnes nottamenet avec le dataset Iamage Net"
   ]
  },
  {
   "cell_type": "code",
   "execution_count": 21,
   "id": "49ba0872-d8bc-4760-866e-b272cebdcb40",
   "metadata": {},
   "outputs": [],
   "source": [
    "model = keras.models.Sequential()\n",
    "\n",
    "model.add(keras.layers.Input((28,28,1)))\n",
    "\n",
    "model.add(keras.layers.Conv2D(8,(3,3), activation = 'relu'))\n",
    "model.add(keras.layers.MaxPooling2D((2,2)))\n",
    "\n",
    "model.add(keras.layers.Conv2D(16,(3,3), activation = 'relu'))\n",
    "model.add(keras.layers.MaxPooling2D((2,2)))\n",
    "\n",
    "model.add(keras.layers.Flatten())\n",
    "model.add(keras.layers.Dense(100, activation='relu'))\n",
    "model.add(keras.layers.Dense(10, activation='softmax'))\n",
    "\n",
    "\n",
    "    "
   ]
  },
  {
   "cell_type": "code",
   "execution_count": 22,
   "id": "fc1da66c-0465-4ddb-bcae-e6891fbf754e",
   "metadata": {},
   "outputs": [
    {
     "name": "stdout",
     "output_type": "stream",
     "text": [
      "Model: \"sequential_1\"\n",
      "_________________________________________________________________\n",
      " Layer (type)                Output Shape              Param #   \n",
      "=================================================================\n",
      " conv2d_2 (Conv2D)           (None, 26, 26, 8)         80        \n",
      "                                                                 \n",
      " max_pooling2d_2 (MaxPooling  (None, 13, 13, 8)        0         \n",
      " 2D)                                                             \n",
      "                                                                 \n",
      " conv2d_3 (Conv2D)           (None, 11, 11, 16)        1168      \n",
      "                                                                 \n",
      " max_pooling2d_3 (MaxPooling  (None, 5, 5, 16)         0         \n",
      " 2D)                                                             \n",
      "                                                                 \n",
      " flatten_1 (Flatten)         (None, 400)               0         \n",
      "                                                                 \n",
      " dense_2 (Dense)             (None, 100)               40100     \n",
      "                                                                 \n",
      " dense_3 (Dense)             (None, 10)                1010      \n",
      "                                                                 \n",
      "=================================================================\n",
      "Total params: 42,358\n",
      "Trainable params: 42,358\n",
      "Non-trainable params: 0\n",
      "_________________________________________________________________\n"
     ]
    }
   ],
   "source": [
    "model.summary()\n",
    "\n",
    "model.compile(optimizer = 'adam', loss = 'sparse_categorical_crossentropy', metrics =['accuracy'])"
   ]
  },
  {
   "cell_type": "code",
   "execution_count": 23,
   "id": "9c0b5d12-7424-4b2a-bc0a-b90e74469fc5",
   "metadata": {},
   "outputs": [
    {
     "name": "stdout",
     "output_type": "stream",
     "text": [
      "Epoch 1/16\n",
      "118/118 [==============================] - 7s 56ms/step - loss: 0.7444 - accuracy: 0.7971 - val_loss: 0.2311 - val_accuracy: 0.9321\n",
      "Epoch 2/16\n",
      "118/118 [==============================] - 6s 55ms/step - loss: 0.1882 - accuracy: 0.9440 - val_loss: 0.1253 - val_accuracy: 0.9621\n",
      "Epoch 3/16\n",
      "118/118 [==============================] - 6s 55ms/step - loss: 0.1166 - accuracy: 0.9653 - val_loss: 0.0894 - val_accuracy: 0.9718\n",
      "Epoch 4/16\n",
      "118/118 [==============================] - 7s 56ms/step - loss: 0.0913 - accuracy: 0.9721 - val_loss: 0.0684 - val_accuracy: 0.9792\n",
      "Epoch 5/16\n",
      "118/118 [==============================] - 7s 55ms/step - loss: 0.0762 - accuracy: 0.9766 - val_loss: 0.0574 - val_accuracy: 0.9825\n",
      "Epoch 6/16\n",
      "118/118 [==============================] - 6s 55ms/step - loss: 0.0657 - accuracy: 0.9802 - val_loss: 0.0521 - val_accuracy: 0.9837\n",
      "Epoch 7/16\n",
      "118/118 [==============================] - 6s 55ms/step - loss: 0.0588 - accuracy: 0.9823 - val_loss: 0.0513 - val_accuracy: 0.9842\n",
      "Epoch 8/16\n",
      "118/118 [==============================] - 6s 54ms/step - loss: 0.0522 - accuracy: 0.9843 - val_loss: 0.0462 - val_accuracy: 0.9855\n",
      "Epoch 9/16\n",
      "118/118 [==============================] - 7s 55ms/step - loss: 0.0477 - accuracy: 0.9856 - val_loss: 0.0418 - val_accuracy: 0.9862\n",
      "Epoch 10/16\n",
      "118/118 [==============================] - 6s 54ms/step - loss: 0.0436 - accuracy: 0.9865 - val_loss: 0.0490 - val_accuracy: 0.9838\n",
      "Epoch 11/16\n",
      "118/118 [==============================] - 6s 54ms/step - loss: 0.0407 - accuracy: 0.9876 - val_loss: 0.0437 - val_accuracy: 0.9858\n",
      "Epoch 12/16\n",
      "118/118 [==============================] - 6s 54ms/step - loss: 0.0370 - accuracy: 0.9884 - val_loss: 0.0420 - val_accuracy: 0.9866\n",
      "Epoch 13/16\n",
      "118/118 [==============================] - 7s 56ms/step - loss: 0.0346 - accuracy: 0.9892 - val_loss: 0.0385 - val_accuracy: 0.9867\n",
      "Epoch 14/16\n",
      "118/118 [==============================] - 6s 55ms/step - loss: 0.0310 - accuracy: 0.9907 - val_loss: 0.0400 - val_accuracy: 0.9858\n",
      "Epoch 15/16\n",
      "118/118 [==============================] - 7s 56ms/step - loss: 0.0317 - accuracy: 0.9903 - val_loss: 0.0384 - val_accuracy: 0.9877\n",
      "Epoch 16/16\n",
      "118/118 [==============================] - 7s 55ms/step - loss: 0.0280 - accuracy: 0.9913 - val_loss: 0.0360 - val_accuracy: 0.9877\n"
     ]
    }
   ],
   "source": [
    "batch_size = 512\n",
    "epochs = 16\n",
    "fit_verbosity = 1\n",
    "\n",
    "history = model.fit(x_train, y_train,\n",
    "                    batch_size = batch_size,\n",
    "                    epochs = epochs,\n",
    "                    verbose = fit_verbosity,\n",
    "                    validation_data = (x_test, y_test)\n",
    ")"
   ]
  },
  {
   "cell_type": "code",
   "execution_count": 24,
   "id": "7cb6ac05-cbf2-48fd-b1e3-9ec53af9cc2b",
   "metadata": {},
   "outputs": [
    {
     "name": "stdout",
     "output_type": "stream",
     "text": [
      "Test loss : 0.0360\n",
      "Test accuracy : 0.9877\n"
     ]
    }
   ],
   "source": [
    "score = model.evaluate(x_test, y_test,verbose=0)\n",
    "\n",
    "print(f'Test loss : {score[0]:4.4f}')\n",
    "print(f'Test accuracy : {score[1]:4.4f}')"
   ]
  },
  {
   "cell_type": "code",
   "execution_count": 25,
   "id": "be6311b9-a5a0-4874-afe6-80fe30c552c5",
   "metadata": {},
   "outputs": [
    {
     "data": {
      "image/png": "[encoded data removed]",
      "text/plain": [
       "<Figure size 432x288 with 1 Axes>"
      ]
     },
     "metadata": {
      "needs_background": "light"
     },
     "output_type": "display_data"
    }
   ],
   "source": [
    "model.metrics_names\n",
    "plt.plot(history.history['accuracy'])\n",
    "plt.plot(history.history['val_accuracy'])\n",
    "plt.title('model accurarcy')\n",
    "plt.ylabel('accuracy')\n",
    "plt.xlabel('epoch')\n",
    "plt.legend(['train','validation'], loc='upper left')\n",
    "plt.show()\n",
    "\n"
   ]
  },
  {
   "cell_type": "code",
   "execution_count": 26,
   "id": "e41c5032-3b49-402b-94bb-cdeeeee95dca",
   "metadata": {},
   "outputs": [
    {
     "name": "stderr",
     "output_type": "stream",
     "text": [
      "c:\\Users\\lamou\\AppData\\Local\\Programs\\Python\\Python39\\lib\\site-packages\\sklearn\\utils\\deprecation.py:87: FutureWarning: Function plot_confusion_matrix is deprecated; Function `plot_confusion_matrix` is deprecated in 1.0 and will be removed in 1.2. Use one of the class methods: ConfusionMatrixDisplay.from_predictions or ConfusionMatrixDisplay.from_estimator.\n",
      "  warnings.warn(msg, category=FutureWarning)\n"
     ]
    },
    {
     "data": {
      "text/plain": [
       "<sklearn.metrics._plot.confusion_matrix.ConfusionMatrixDisplay at 0x2630f6e67f0>"
      ]
     },
     "execution_count": 26,
     "metadata": {},
     "output_type": "execute_result"
    },
    {
     "data": {
      "image/png": "[encoded data removed]",
      "text/plain": [
       "<Figure size 432x288 with 2 Axes>"
      ]
     },
     "metadata": {
      "needs_background": "light"
     },
     "output_type": "display_data"
    }
   ],
   "source": [
    "class estimator:\n",
    "  _estimator_type  = ''\n",
    "  classes = []\n",
    "  def __init__(self, model, classes):\n",
    "    self.model = model\n",
    "    self._estimator_type = 'classifier'\n",
    "    self.classes = classes\n",
    "  def predict(self, X):\n",
    "    y_prob = self.model.predict(X)\n",
    "    y_pred = y_prob.argmax(axis = 1)\n",
    "    return y_pred\n",
    "\n",
    "classes_names = ['0', '1', '2', '3', '4', '5', '6', '7', '8', '9']\n",
    "classifier = estimator(model, classes_names)\n",
    "plot_confusion_matrix(estimator = classifier, X = x_test, y_true = y_test)"
   ]
  },
  {
   "cell_type": "code",
   "execution_count": 27,
   "id": "e27b05b1-f4af-4414-8a24-06eef76033f7",
   "metadata": {},
   "outputs": [],
   "source": [
    "model.save('simplConv.h5')"
   ]
  },
  {
   "cell_type": "code",
   "execution_count": 28,
   "id": "9a85f5d7-ad3e-41ec-8334-e5e58c97780f",
   "metadata": {},
   "outputs": [
    {
     "data": {
      "image/png": "[encoded data removed]",
      "text/plain": [
       "<Figure size 576x576 with 2 Axes>"
      ]
     },
     "metadata": {
      "needs_background": "light"
     },
     "output_type": "display_data"
    }
   ],
   "source": [
    "acc = history.history['accuracy']\n",
    "val_acc = history.history['val_accuracy']\n",
    "\n",
    "loss = history.history['loss']\n",
    "val_loss = history.history['val_loss']\n",
    "\n",
    "epochs_range = range(epochs)\n",
    "\n",
    "plt.figure(figsize=(8, 8))\n",
    "plt.subplot(1, 2, 1)\n",
    "plt.plot(epochs_range, acc, label='Training Accuracy')\n",
    "plt.plot(epochs_range, val_acc, label='Validation Accuracy')\n",
    "plt.legend(loc='lower right')\n",
    "plt.title('Training and Validation Accuracy')\n",
    "\n",
    "plt.subplot(1, 2, 2)\n",
    "plt.plot(epochs_range, loss, label='Training Loss')\n",
    "plt.plot(epochs_range, val_loss, label='Validation Loss')\n",
    "plt.legend(loc='upper right')\n",
    "plt.title('Training and Validation Loss')\n",
    "plt.show()"
   ]
  },
  {
   "cell_type": "code",
   "execution_count": null,
   "id": "fcddcb4a",
   "metadata": {},
   "outputs": [],
   "source": []
  }
 ],
 "metadata": {
  "kernelspec": {
   "display_name": "Python 3.9.10 64-bit",
   "language": "python",
   "name": "python3"
  },
  "language_info": {
   "codemirror_mode": {
    "name": "ipython",
    "version": 3
   },
   "file_extension": ".py",
   "mimetype": "text/x-python",
   "name": "python",
   "nbconvert_exporter": "python",
   "pygments_lexer": "ipython3",
   "version": "3.9.10"
  },
  "vscode": {
   "interpreter": {
    "hash": "a7d1b59daac0ceca72aa986f36f3bae4c4aa7baaf247195d922080265bcb96bf"
   }
  }
 },
 "nbformat": 4,
 "nbformat_minor": 5
}
