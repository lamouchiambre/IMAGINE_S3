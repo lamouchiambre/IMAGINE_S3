{
 "cells": [
  {
   "cell_type": "markdown",
   "id": "b20049b6-b2cb-432b-bd32-10ebfd4d3c14",
   "metadata": {},
   "source": [
    "# Importation"
   ]
  },
  {
   "cell_type": "code",
   "execution_count": 1,
   "id": "d1d5a1d1-606f-4154-bb50-e663756afbcf",
   "metadata": {},
   "outputs": [
    {
     "name": "stderr",
     "output_type": "stream",
     "text": [
      "2022-10-17 12:23:11.597760: I tensorflow/core/platform/cpu_feature_guard.cc:193] This TensorFlow binary is optimized with oneAPI Deep Neural Network Library (oneDNN) to use the following CPU instructions in performance-critical operations:  AVX2 FMA\n",
      "To enable them in other operations, rebuild TensorFlow with the appropriate compiler flags.\n",
      "2022-10-17 12:23:11.768314: E tensorflow/stream_executor/cuda/cuda_blas.cc:2981] Unable to register cuBLAS factory: Attempting to register factory for plugin cuBLAS when one has already been registered\n",
      "2022-10-17 12:23:12.736697: W tensorflow/stream_executor/platform/default/dso_loader.cc:64] Could not load dynamic library 'libnvinfer.so.7'; dlerror: libnvinfer.so.7: cannot open shared object file: No such file or directory\n",
      "2022-10-17 12:23:12.736921: W tensorflow/stream_executor/platform/default/dso_loader.cc:64] Could not load dynamic library 'libnvinfer_plugin.so.7'; dlerror: libnvinfer_plugin.so.7: cannot open shared object file: No such file or directory\n",
      "2022-10-17 12:23:12.736934: W tensorflow/compiler/tf2tensorrt/utils/py_utils.cc:38] TF-TRT Warning: Cannot dlopen some TensorRT libraries. If you would like to use Nvidia GPU with TensorRT, please make sure the missing libraries mentioned above are installed properly.\n"
     ]
    }
   ],
   "source": [
    "#!/usr/bin/env python\n",
    "\n",
    "import tensorflow as tf\n",
    "from tensorflow import keras\n",
    "\n",
    "import numpy as np\n",
    "import matplotlib.pyplot as plt\n",
    "from sklearn.metrics import plot_confusion_matrix\n",
    "\n",
    "import sys,os\n",
    "from importlib import reload\n",
    "sys.path.append('..')\n",
    "\n",
    "\n",
    "\n",
    "\n",
    "#pour la suite, à vous de jouer, bon courage :)"
   ]
  },
  {
   "cell_type": "markdown",
   "id": "5b31c81f-4fba-4784-bdce-c8c7530594f1",
   "metadata": {},
   "source": [
    "Pour le putain de TP on va utiliser un dataset mega classique. Qui est mniste. composer de 10 classe qui sont repectivement de 0 a 9 (les chiffre ta vue)\n",
    "On vq distinguer les separer en deux partie. les jeux de test et les jeux de t'apprentiddage. "
   ]
  },
  {
   "cell_type": "code",
   "execution_count": 2,
   "id": "3812b0f8-4fd7-4dc5-b6cf-af8187f833e3",
   "metadata": {},
   "outputs": [],
   "source": [
    "(x_train, y_train), (x_test, y_test) = keras.datasets.mnist.load_data()"
   ]
  },
  {
   "cell_type": "markdown",
   "id": "2182a55a-8928-42b8-b3aa-3bf274091988",
   "metadata": {},
   "source": [
    "Il faut normaliser les valeur d'image rentrer. En effet rare sont les reseau de neuronne qui prends en entree des valeur non normaliser et des image avec des taille variable. \n",
    "Il coutumier de garder une valeur en puissance de 2 et carrer. On va faire la meme chose."
   ]
  },
  {
   "cell_type": "code",
   "execution_count": 3,
   "id": "0093e92a-b68e-4873-bbf1-16c58419e345",
   "metadata": {},
   "outputs": [
    {
     "name": "stdout",
     "output_type": "stream",
     "text": [
      "x_train :  (60000, 28, 28, 1)\n",
      "y_train :  (60000,)\n",
      "x_test  :  (10000, 28, 28, 1)\n",
      "y_test  :  (10000,)\n"
     ]
    }
   ],
   "source": [
    "x_train = x_train.reshape(-1,28,28,1)\n",
    "x_test  = x_test.reshape(-1,28,28,1)\n",
    " \n",
    "\n",
    "print(\"x_train : \",x_train.shape)\n",
    "print(\"y_train : \",y_train.shape)\n",
    "print(\"x_test  : \",x_test.shape)\n",
    "print(\"y_test  : \",y_test.shape)"
   ]
  },
  {
   "cell_type": "markdown",
   "id": "9ace02dd-d55a-4722-aca9-1085c8d91435",
   "metadata": {},
   "source": [
    "le but du tp est de realiser un reseau de neuronne de convolution e destination. Il existe de nombreux model disponible de classifieur. Tel que mobilnet, alexnet ect..."
   ]
  },
  {
   "cell_type": "code",
   "execution_count": 4,
   "id": "b09334b2-5f24-4010-9151-8b0ce405c38c",
   "metadata": {},
   "outputs": [
    {
     "name": "stdout",
     "output_type": "stream",
     "text": [
      "Avant la normalisation  : Min 0 Max 255\n"
     ]
    }
   ],
   "source": [
    "print('Avant la normalisation  : Min {} Max {}'.format(x_train.min(),x_train.max()))"
   ]
  },
  {
   "cell_type": "code",
   "execution_count": 5,
   "id": "e6aa89ce-eb5a-4118-aa50-ab7aca243e41",
   "metadata": {},
   "outputs": [],
   "source": [
    "xmax = x_train.max()\n",
    "x_train = x_train / xmax\n",
    "x_test = x_test / xmax"
   ]
  },
  {
   "cell_type": "code",
   "execution_count": 6,
   "id": "edd6b0a3-09bf-4087-9b8c-20b5e56a8bba",
   "metadata": {},
   "outputs": [
    {
     "name": "stdout",
     "output_type": "stream",
     "text": [
      "Avant la normalisation  : Min 0.0 Max 1.0\n"
     ]
    }
   ],
   "source": [
    "print('Avant la normalisation  : Min {} Max {}'.format(x_train.min(),x_train.max()))"
   ]
  },
  {
   "cell_type": "code",
   "execution_count": 11,
   "id": "49ba0872-d8bc-4760-866e-b272cebdcb40",
   "metadata": {},
   "outputs": [
    {
     "ename": "ValueError",
     "evalue": "Exception encountered when calling layer \"conv2d_3\" (type Conv2D).\n\nNegative dimension size caused by subtracting 5 from 2 for '{{node conv2d_3/Conv2D}} = Conv2D[T=DT_FLOAT, data_format=\"NHWC\", dilations=[1, 1, 1, 1], explicit_paddings=[], padding=\"VALID\", strides=[1, 5, 5, 1], use_cudnn_on_gpu=true](Placeholder, conv2d_3/Conv2D/ReadVariableOp)' with input shapes: [?,2,2,6], [5,5,6,16].\n\nCall arguments received by layer \"conv2d_3\" (type Conv2D):\n  • inputs=tf.Tensor(shape=(None, 2, 2, 6), dtype=float32)",
     "output_type": "error",
     "traceback": [
      "\u001b[0;31m---------------------------------------------------------------------------\u001b[0m",
      "\u001b[0;31mValueError\u001b[0m                                Traceback (most recent call last)",
      "\u001b[0;32m/tmp/ipykernel_277097/1512163823.py\u001b[0m in \u001b[0;36m<module>\u001b[0;34m\u001b[0m\n\u001b[1;32m      5\u001b[0m \u001b[0mmodel\u001b[0m\u001b[0;34m.\u001b[0m\u001b[0madd\u001b[0m\u001b[0;34m(\u001b[0m\u001b[0mkeras\u001b[0m\u001b[0;34m.\u001b[0m\u001b[0mlayers\u001b[0m\u001b[0;34m.\u001b[0m\u001b[0mActivation\u001b[0m\u001b[0;34m(\u001b[0m\u001b[0;34m\"sigmoid\"\u001b[0m\u001b[0;34m)\u001b[0m\u001b[0;34m)\u001b[0m\u001b[0;34m\u001b[0m\u001b[0;34m\u001b[0m\u001b[0m\n\u001b[1;32m      6\u001b[0m \u001b[0;34m\u001b[0m\u001b[0m\n\u001b[0;32m----> 7\u001b[0;31m \u001b[0mmodel\u001b[0m\u001b[0;34m.\u001b[0m\u001b[0madd\u001b[0m\u001b[0;34m(\u001b[0m\u001b[0mkeras\u001b[0m\u001b[0;34m.\u001b[0m\u001b[0mlayers\u001b[0m\u001b[0;34m.\u001b[0m\u001b[0mConv2D\u001b[0m\u001b[0;34m(\u001b[0m\u001b[0;36m16\u001b[0m\u001b[0;34m,\u001b[0m \u001b[0;36m5\u001b[0m\u001b[0;34m,\u001b[0m \u001b[0;36m5\u001b[0m\u001b[0;34m,\u001b[0m  \u001b[0mpadding\u001b[0m\u001b[0;34m=\u001b[0m\u001b[0;34m'valid'\u001b[0m\u001b[0;34m)\u001b[0m\u001b[0;34m)\u001b[0m\u001b[0;34m\u001b[0m\u001b[0;34m\u001b[0m\u001b[0m\n\u001b[0m\u001b[1;32m      8\u001b[0m \u001b[0mmodel\u001b[0m\u001b[0;34m.\u001b[0m\u001b[0madd\u001b[0m\u001b[0;34m(\u001b[0m\u001b[0mkeras\u001b[0m\u001b[0;34m.\u001b[0m\u001b[0mlayers\u001b[0m\u001b[0;34m.\u001b[0m\u001b[0mMaxPooling2D\u001b[0m\u001b[0;34m(\u001b[0m\u001b[0mpool_size\u001b[0m\u001b[0;34m=\u001b[0m\u001b[0;34m(\u001b[0m\u001b[0;36m2\u001b[0m\u001b[0;34m,\u001b[0m \u001b[0;36m2\u001b[0m\u001b[0;34m)\u001b[0m\u001b[0;34m)\u001b[0m\u001b[0;34m)\u001b[0m\u001b[0;34m\u001b[0m\u001b[0;34m\u001b[0m\u001b[0m\n\u001b[1;32m      9\u001b[0m \u001b[0mmodel\u001b[0m\u001b[0;34m.\u001b[0m\u001b[0madd\u001b[0m\u001b[0;34m(\u001b[0m\u001b[0mkeras\u001b[0m\u001b[0;34m.\u001b[0m\u001b[0mlayers\u001b[0m\u001b[0;34m.\u001b[0m\u001b[0mActivation\u001b[0m\u001b[0;34m(\u001b[0m\u001b[0;34m\"sigmoid\"\u001b[0m\u001b[0;34m)\u001b[0m\u001b[0;34m)\u001b[0m\u001b[0;34m\u001b[0m\u001b[0;34m\u001b[0m\u001b[0m\n",
      "\u001b[0;32m/usr/local/lib/python3.10/dist-packages/tensorflow/python/trackable/base.py\u001b[0m in \u001b[0;36m_method_wrapper\u001b[0;34m(self, *args, **kwargs)\u001b[0m\n\u001b[1;32m    203\u001b[0m     \u001b[0mself\u001b[0m\u001b[0;34m.\u001b[0m\u001b[0m_self_setattr_tracking\u001b[0m \u001b[0;34m=\u001b[0m \u001b[0;32mFalse\u001b[0m  \u001b[0;31m# pylint: disable=protected-access\u001b[0m\u001b[0;34m\u001b[0m\u001b[0;34m\u001b[0m\u001b[0m\n\u001b[1;32m    204\u001b[0m     \u001b[0;32mtry\u001b[0m\u001b[0;34m:\u001b[0m\u001b[0;34m\u001b[0m\u001b[0;34m\u001b[0m\u001b[0m\n\u001b[0;32m--> 205\u001b[0;31m       \u001b[0mresult\u001b[0m \u001b[0;34m=\u001b[0m \u001b[0mmethod\u001b[0m\u001b[0;34m(\u001b[0m\u001b[0mself\u001b[0m\u001b[0;34m,\u001b[0m \u001b[0;34m*\u001b[0m\u001b[0margs\u001b[0m\u001b[0;34m,\u001b[0m \u001b[0;34m**\u001b[0m\u001b[0mkwargs\u001b[0m\u001b[0;34m)\u001b[0m\u001b[0;34m\u001b[0m\u001b[0;34m\u001b[0m\u001b[0m\n\u001b[0m\u001b[1;32m    206\u001b[0m     \u001b[0;32mfinally\u001b[0m\u001b[0;34m:\u001b[0m\u001b[0;34m\u001b[0m\u001b[0;34m\u001b[0m\u001b[0m\n\u001b[1;32m    207\u001b[0m       \u001b[0mself\u001b[0m\u001b[0;34m.\u001b[0m\u001b[0m_self_setattr_tracking\u001b[0m \u001b[0;34m=\u001b[0m \u001b[0mprevious_value\u001b[0m  \u001b[0;31m# pylint: disable=protected-access\u001b[0m\u001b[0;34m\u001b[0m\u001b[0;34m\u001b[0m\u001b[0m\n",
      "\u001b[0;32m/usr/local/lib/python3.10/dist-packages/keras/utils/traceback_utils.py\u001b[0m in \u001b[0;36merror_handler\u001b[0;34m(*args, **kwargs)\u001b[0m\n\u001b[1;32m     68\u001b[0m             \u001b[0;31m# To get the full stack trace, call:\u001b[0m\u001b[0;34m\u001b[0m\u001b[0;34m\u001b[0m\u001b[0m\n\u001b[1;32m     69\u001b[0m             \u001b[0;31m# `tf.debugging.disable_traceback_filtering()`\u001b[0m\u001b[0;34m\u001b[0m\u001b[0;34m\u001b[0m\u001b[0m\n\u001b[0;32m---> 70\u001b[0;31m             \u001b[0;32mraise\u001b[0m \u001b[0me\u001b[0m\u001b[0;34m.\u001b[0m\u001b[0mwith_traceback\u001b[0m\u001b[0;34m(\u001b[0m\u001b[0mfiltered_tb\u001b[0m\u001b[0;34m)\u001b[0m \u001b[0;32mfrom\u001b[0m \u001b[0;32mNone\u001b[0m\u001b[0;34m\u001b[0m\u001b[0;34m\u001b[0m\u001b[0m\n\u001b[0m\u001b[1;32m     71\u001b[0m         \u001b[0;32mfinally\u001b[0m\u001b[0;34m:\u001b[0m\u001b[0;34m\u001b[0m\u001b[0;34m\u001b[0m\u001b[0m\n\u001b[1;32m     72\u001b[0m             \u001b[0;32mdel\u001b[0m \u001b[0mfiltered_tb\u001b[0m\u001b[0;34m\u001b[0m\u001b[0;34m\u001b[0m\u001b[0m\n",
      "\u001b[0;32m/usr/local/lib/python3.10/dist-packages/tensorflow/python/framework/ops.py\u001b[0m in \u001b[0;36m_create_c_op\u001b[0;34m(graph, node_def, inputs, control_inputs, op_def, extract_traceback)\u001b[0m\n\u001b[1;32m   1967\u001b[0m   \u001b[0;32mexcept\u001b[0m \u001b[0merrors\u001b[0m\u001b[0;34m.\u001b[0m\u001b[0mInvalidArgumentError\u001b[0m \u001b[0;32mas\u001b[0m \u001b[0me\u001b[0m\u001b[0;34m:\u001b[0m\u001b[0;34m\u001b[0m\u001b[0;34m\u001b[0m\u001b[0m\n\u001b[1;32m   1968\u001b[0m     \u001b[0;31m# Convert to ValueError for backwards compatibility.\u001b[0m\u001b[0;34m\u001b[0m\u001b[0;34m\u001b[0m\u001b[0m\n\u001b[0;32m-> 1969\u001b[0;31m     \u001b[0;32mraise\u001b[0m \u001b[0mValueError\u001b[0m\u001b[0;34m(\u001b[0m\u001b[0me\u001b[0m\u001b[0;34m.\u001b[0m\u001b[0mmessage\u001b[0m\u001b[0;34m)\u001b[0m\u001b[0;34m\u001b[0m\u001b[0;34m\u001b[0m\u001b[0m\n\u001b[0m\u001b[1;32m   1970\u001b[0m \u001b[0;34m\u001b[0m\u001b[0m\n\u001b[1;32m   1971\u001b[0m   \u001b[0;31m# Record the current Python stack trace as the creating stacktrace of this\u001b[0m\u001b[0;34m\u001b[0m\u001b[0;34m\u001b[0m\u001b[0m\n",
      "\u001b[0;31mValueError\u001b[0m: Exception encountered when calling layer \"conv2d_3\" (type Conv2D).\n\nNegative dimension size caused by subtracting 5 from 2 for '{{node conv2d_3/Conv2D}} = Conv2D[T=DT_FLOAT, data_format=\"NHWC\", dilations=[1, 1, 1, 1], explicit_paddings=[], padding=\"VALID\", strides=[1, 5, 5, 1], use_cudnn_on_gpu=true](Placeholder, conv2d_3/Conv2D/ReadVariableOp)' with input shapes: [?,2,2,6], [5,5,6,16].\n\nCall arguments received by layer \"conv2d_3\" (type Conv2D):\n  • inputs=tf.Tensor(shape=(None, 2, 2, 6), dtype=float32)"
     ]
    }
   ],
   "source": [
    "model = keras.models.Sequential()\n",
    "\n",
    "model.add(keras.layers.Conv2D(6, 5, 5, padding='valid', input_shape = (28,28,1)))\n",
    "model.add(keras.layers.MaxPooling2D(pool_size=(2, 2)))\n",
    "model.add(keras.layers.Activation(\"sigmoid\"))\n",
    "\n",
    "model.add(keras.layers.Conv2D(16, 5, 5,  padding='valid'))\n",
    "'''\n",
    "model.add(keras.layers.MaxPooling2D(pool_size=(2, 2)))\n",
    "model.add(keras.layers.Activation(\"sigmoid\"))\n",
    "model.add(keras.layers.Dropout(0.5))\n",
    "\n",
    "model.add(keras.layers.Conv2D(120, 1, 1,  padding='valid'))\n",
    "\n",
    "model.add(keras.layers.Flatten())\n",
    "model.add(keras.layers.Dense(84))\n",
    "model.add(keras.layers.Activation(\"sigmoid\"))\n",
    "model.add(keras.layers.Dense(10))\n",
    "model.add(keras.layers.Activation('softmax'))\n",
    "'''"
   ]
  },
  {
   "cell_type": "code",
   "execution_count": null,
   "id": "fc1da66c-0465-4ddb-bcae-e6891fbf754e",
   "metadata": {},
   "outputs": [],
   "source": [
    "model.summary()\n",
    "\n",
    "model.compile(optimizer = 'adam', loss = 'sparse_categorical_crossentropy', metrics =['accuracy'])"
   ]
  },
  {
   "cell_type": "code",
   "execution_count": null,
   "id": "9c0b5d12-7424-4b2a-bc0a-b90e74469fc5",
   "metadata": {},
   "outputs": [],
   "source": [
    "batch_size = 512\n",
    "epochs = 16\n",
    "fit_verbosity = 1\n",
    "\n",
    "history = model.fit(x_train, y_train,\n",
    "                    batch_size = batch_size,\n",
    "                    epochs = epochs,\n",
    "                    verbose = fit_verbosity,\n",
    "                    validation_data = (x_test, y_test)\n",
    ")"
   ]
  },
  {
   "cell_type": "code",
   "execution_count": null,
   "id": "7cb6ac05-cbf2-48fd-b1e3-9ec53af9cc2b",
   "metadata": {},
   "outputs": [],
   "source": [
    "score = model.evaluate(x_test, y_test,verbose=0)\n",
    "\n",
    "print(f'Test loss : {score[0]:4.4f}')\n",
    "print(f'Test accuracy : {score[1]:4.4f}')"
   ]
  },
  {
   "cell_type": "code",
   "execution_count": null,
   "id": "be6311b9-a5a0-4874-afe6-80fe30c552c5",
   "metadata": {},
   "outputs": [],
   "source": [
    "model.metrics_names\n",
    "plt.plot(history.history['accuracy'])\n",
    "plt.plot(history.history['val_accuracy'])\n",
    "plt.title('model accurarcy')\n",
    "plt.ylabel('accuracy')\n",
    "plt.xlabel('epoch')\n",
    "plt.legend(['train','validation'], loc='upper left')\n",
    "plt.show()\n",
    "\n"
   ]
  },
  {
   "cell_type": "code",
   "execution_count": null,
   "id": "e41c5032-3b49-402b-94bb-cdeeeee95dca",
   "metadata": {},
   "outputs": [],
   "source": [
    "class estimator:\n",
    "  _estimator_type  = ''\n",
    "  classes = []\n",
    "  def __init__(self, model, classes):\n",
    "    self.model = model\n",
    "    self._estimator_type = 'classifier'\n",
    "    self.classes = classes\n",
    "  def predict(self, X):\n",
    "    y_prob = self.model.predict(X)\n",
    "    y_pred = y_prob.argmax(axis = 1)\n",
    "    return y_pred\n",
    "\n",
    "classes_names = ['0', '1', '2', '3', '4', '5', '6', '7', '8', '9']\n",
    "classifier = estimator(model, classes_names)data:image/png;base64,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\n",
    "plot_confusion_matrix(estimator = classifier, X = x_test, y_true = y_test)"
   ]
  },
  {
   "cell_type": "code",
   "execution_count": null,
   "id": "e27b05b1-f4af-4414-8a24-06eef76033f7",
   "metadata": {},
   "outputs": [],
   "source": []
  }
 ],
 "metadata": {
  "kernelspec": {
   "display_name": "aled",
   "language": "python",
   "name": "other-env"
  },
  "language_info": {
   "codemirror_mode": {
    "name": "ipython",
    "version": 3
   },
   "file_extension": ".py",
   "mimetype": "text/x-python",
   "name": "python",
   "nbconvert_exporter": "python",
   "pygments_lexer": "ipython3",
   "version": "3.10.6"
  }
 },
 "nbformat": 4,
 "nbformat_minor": 5
}
